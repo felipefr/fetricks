{
 "cells": [
  {
   "cell_type": "markdown",
   "metadata": {},
   "source": [
    "# How to solve H(div) PDEs in practice?\n",
    "\n",
    "This document explores the current, **easily accessible**, state of the art for solving an $H(\\rm div) \\times L^2$ formulation of Poisson's problem or equivalently Darcy flow using FEniCS (www.fenicsproject.org) and underlying linear algebra libraries e.g. PETSc.\n",
    "\n",
    "## Mathematical background\n",
    "\n",
    "### Poisson's equation\n",
    "The underlying PDE in question is: given $f$, find $p$ satisfying\n",
    "\n",
    "  $- \\Delta p = f$ \n",
    "\n",
    "over a computational domain $\\Omega$ with homogeneous Dirichlet boundary conditions where $\\Delta$ is the standard Laplace operator.\n",
    "\n",
    "### Primal formulation\n",
    "The standard (primal) $H^1$ formulation of this problem reads as: find $p \\in H^1_0$ such that\n",
    "\n",
    "  $\\int_{\\Omega} \\nabla p \\cdot \\nabla q \\, \\textrm{d} x = \\int_{\\Omega} f q \\, \\textrm{d} x$\n",
    "\n",
    "for all $q \\in H^1_0$. Usual finite element spaces for this formulation is for instance Lagrange elements of order $k \\geq 1$ i.e. continuous piecewise polynomials of polynomial order $k$ defined relative to a mesh of the domain.\n",
    "\n",
    "### Mixed formulation\n",
    "The standard (mixed) $H(\\rm div) \\times L^2$ formulation of this problem reads as: find $u \\in H(\\rm div)$ and $p \\in L^2$ such that\n",
    "\n",
    "  $\\int_{\\Omega} u \\cdot v + \\nabla \\cdot u q + \\nabla \\cdot v p \\, \\textrm{d} x = \\int_{\\Omega} - f q \\, \\textrm{d} x$ \n",
    "\n",
    "Stable finite elements for this formulation is for instance Raviart-Thomas elements of order $k+1$ and discontinuous elements of order $k$ for $k \\geq 0$. \n"
   ]
  },
  {
   "cell_type": "markdown",
   "metadata": {},
   "source": [
    "## Implementation basics "
   ]
  },
  {
   "cell_type": "markdown",
   "metadata": {},
   "source": [
    "Premises for this notebook:\n",
    "* The implementation should be accessible through the Python interface to the FEniCS software"
   ]
  },
  {
   "cell_type": "code",
   "execution_count": 1,
   "metadata": {
    "collapsed": true
   },
   "outputs": [],
   "source": [
    "# Import useful libraries\n",
    "from dolfin import *\n",
    "import numpy\n",
    "import pylab\n",
    "\n",
    "# Plot inline in this notebook\n",
    "%matplotlib inline\n",
    "\n",
    "# Set basic optimization parameters for FEniCS\n",
    "parameters[\"form_compiler\"][\"representation\"] = \"uflacs\"\n",
    "parameters[\"form_compiler\"][\"cpp_optimize\"] = True\n",
    "#parameters[\"plotting_backend\"] = \"matplotlib\""
   ]
  },
  {
   "cell_type": "markdown",
   "metadata": {},
   "source": [
    "Some code snippets for running solves, timing them and running repeated solves and reporting timing averages and standard deviations"
   ]
  },
  {
   "cell_type": "code",
   "execution_count": 2,
   "metadata": {
    "collapsed": true
   },
   "outputs": [],
   "source": [
    "def time_solve(mesh, algorithm):\n",
    "    \"\"\"Run a given algorithm over a given mesh, \n",
    "    time it and return the time and the dimension of the linear system.\"\"\"\n",
    "    \n",
    "    solution, tag = algorithm(mesh)\n",
    "    times = timings(TimingClear_clear, [TimingType_wall])\n",
    "    dim = solution.function_space().dim()\n",
    "    t = times.get_value(tag, \"wall tot\")\n",
    "\n",
    "    return (t, dim)\n",
    "\n",
    "def time_solves(mesh, algorithm, R=1):\n",
    "    \"\"\"Run R solves of a given algorithm over a given mesh, \n",
    "    time each and return average time and standard deviation.\"\"\"\n",
    "    \n",
    "    times = numpy.empty(R)\n",
    "    h = mesh.hmax()\n",
    "    \n",
    "    # Run a set of R solves and time each\n",
    "    for i in range(R):\n",
    "        t, dim = time_solve(mesh, algorithm)\n",
    "        print \"%s (s) with N=%d and h=%.2g: %.3g\" % (algorithm, dim, h, t)\n",
    "        times[i] = t\n",
    "    \n",
    "    # Return average timing and standard deviation\n",
    "    avg_t = numpy.mean(times)\n",
    "    std_t = numpy.std(times)\n",
    "    return (avg_t, std_t)"
   ]
  },
  {
   "cell_type": "markdown",
   "metadata": {},
   "source": [
    "## Implementation and study of primal formulation "
   ]
  },
  {
   "cell_type": "markdown",
   "metadata": {},
   "source": [
    "For comparison purposes, it is useful to look at run times for a straightforward implementation of the primal formulation. So, code is included for this first:"
   ]
  },
  {
   "cell_type": "code",
   "execution_count": 3,
   "metadata": {
    "collapsed": true
   },
   "outputs": [],
   "source": [
    "def primal(mesh):\n",
    "    \"\"\"Compute linear system corresponding to H^1 formulation,\n",
    "    return matrix A, right-hand side b and Function for the solution.\"\"\"\n",
    "    \n",
    "    Q = FunctionSpace(mesh, \"CG\", 1)\n",
    "    p = TrialFunction(Q)\n",
    "    q = TestFunction(Q)\n",
    "\n",
    "    a = inner(grad(p), grad(q))*dx\n",
    "    f = Constant(1.0)\n",
    "    L = f*q*dx\n",
    "\n",
    "    bc = DirichletBC(Q, 0.0, \"on_boundary\")\n",
    "\n",
    "    A, b = assemble_system(a, L, bc)\n",
    "\n",
    "    p = Function(Q)\n",
    "    return (A, b, p)"
   ]
  },
  {
   "cell_type": "markdown",
   "metadata": {},
   "source": [
    "### Solving the linear system using LU"
   ]
  },
  {
   "cell_type": "markdown",
   "metadata": {},
   "source": [
    "The very basic method for solving the resulting system of equations is by direct LU factorization. Let's just look at that first. The below code snippet just computes the linear system corresponding to the primal formulation, solves it using the default LU solver and times it: "
   ]
  },
  {
   "cell_type": "code",
   "execution_count": 4,
   "metadata": {
    "collapsed": true
   },
   "outputs": [],
   "source": [
    "def primal_lu(mesh):\n",
    "    \"\"\"On given mesh, solve H^1 formulation using plain LU.\"\"\"\n",
    "    \n",
    "    A, b, p = primal(mesh)\n",
    "\n",
    "    tag = \"Primal LU\"\n",
    "    timer = Timer(tag)\n",
    "    solver = LUSolver(A)\n",
    "    solver.solve(p.vector(), b)\n",
    "    timer.stop()\n",
    "\n",
    "    return (p, tag)"
   ]
  },
  {
   "cell_type": "markdown",
   "metadata": {},
   "source": [
    "Ok, so let's just run some timings with this formulation to see how long it takes and how the run time scales with mesh size and/or problem size i.e. number of degrees of freedom. "
   ]
  },
  {
   "cell_type": "code",
   "execution_count": 5,
   "metadata": {
    "collapsed": false,
    "scrolled": true
   },
   "outputs": [
    {
     "name": "stdout",
     "output_type": "stream",
     "text": [
      "<function primal_lu at 0x7fa7c7f18b90> (s) with N=729 and h=0.22: 0.00574\n",
      "<function primal_lu at 0x7fa7c7f18b90> (s) with N=729 and h=0.22: 0.0051\n",
      "<function primal_lu at 0x7fa7c7f18b90> (s) with N=729 and h=0.22: 0.00513\n",
      "Primal LU took 0.00532 (+- 0.000293)\n",
      "<function primal_lu at 0x7fa7c7f18b90> (s) with N=4913 and h=0.11: 0.116\n",
      "<function primal_lu at 0x7fa7c7f18b90> (s) with N=4913 and h=0.11: 0.17\n",
      "<function primal_lu at 0x7fa7c7f18b90> (s) with N=4913 and h=0.11: 0.134\n",
      "Primal LU took 0.14 (+- 0.0226)\n",
      "<function primal_lu at 0x7fa7c7f18b90> (s) with N=35937 and h=0.054: 9.34\n",
      "<function primal_lu at 0x7fa7c7f18b90> (s) with N=35937 and h=0.054: 9.53\n",
      "<function primal_lu at 0x7fa7c7f18b90> (s) with N=35937 and h=0.054: 9.09\n",
      "Primal LU took 9.32 (+- 0.178)\n"
     ]
    }
   ],
   "source": [
    "sizes = [8, 16, 32]\n",
    "hs = []\n",
    "primal_lu_times = []\n",
    "stds = []\n",
    "Ns = []\n",
    "\n",
    "R = 3\n",
    "\n",
    "for n in sizes:\n",
    "    mesh = UnitCubeMesh(n, n, n)\n",
    "    Ns += [mesh.num_vertices()] # NB CG1 specific\n",
    "    hs += [mesh.hmax()]\n",
    "   \n",
    "    avg_t, std_t = time_solves(mesh, primal_lu, R=R)\n",
    "    print \"%s took %0.3g (+- %0.3g)\" % (\"Primal LU\", avg_t, std_t)\n",
    "\n",
    "    primal_lu_times += [avg_t]\n",
    "    stds += [std_t]"
   ]
  },
  {
   "cell_type": "markdown",
   "metadata": {},
   "source": [
    "Ok, let's plot the run times versus mesh size"
   ]
  },
  {
   "cell_type": "code",
   "execution_count": 6,
   "metadata": {
    "collapsed": false
   },
   "outputs": [
    {
     "data": {
      "image/png": "[encoded data removed]",
      "text/plain": [
       "<matplotlib.figure.Figure at 0x7fa7c83c6dd0>"
      ]
     },
     "metadata": {},
     "output_type": "display_data"
    }
   ],
   "source": [
    "pylab.figure()\n",
    "pylab.errorbar(hs, primal_lu_times, stds)\n",
    "pylab.grid(True)\n",
    "pylab.xlabel(\"h\")\n",
    "pylab.ylabel(\"Run time (s)\")\n",
    "pylab.show()"
   ]
  },
  {
   "cell_type": "markdown",
   "metadata": {},
   "source": [
    "Or, we can look at run times versus problem size (number of degrees of freedom)"
   ]
  },
  {
   "cell_type": "code",
   "execution_count": 7,
   "metadata": {
    "collapsed": false
   },
   "outputs": [
    {
     "data": {
      "image/png": "[encoded data removed]",
      "text/plain": [
       "<matplotlib.figure.Figure at 0x7fa8181af8d0>"
      ]
     },
     "metadata": {},
     "output_type": "display_data"
    }
   ],
   "source": [
    "pylab.figure()\n",
    "pylab.errorbar(Ns, primal_lu_times, stds)\n",
    "pylab.grid(True)\n",
    "pylab.xlabel(\"#dofs\")\n",
    "pylab.ylabel(\"Run time (s)\")\n",
    "\n",
    "pylab.show()"
   ]
  },
  {
   "cell_type": "markdown",
   "metadata": {},
   "source": [
    "### Using AMG instead of LU for the primal formulation"
   ]
  },
  {
   "cell_type": "markdown",
   "metadata": {},
   "source": [
    "Ok, so we can very easily do much better than using LU for this formulation. Since this is a symmetric and positive definite problem, an obvious choice is to use built-in CG (symmetric problem) with AMG preconditioning out of the box. Here is a short code snippet for doing so and timing the result: "
   ]
  },
  {
   "cell_type": "code",
   "execution_count": 8,
   "metadata": {
    "collapsed": true
   },
   "outputs": [],
   "source": [
    "def primal_amg(mesh):\n",
    "    \"Solve primal H^1 formulation using CG with AMG.\"\n",
    "    \n",
    "    A, b, p = primal(mesh)\n",
    "    \n",
    "    tag = \"Primal AMG\"\n",
    "    timer = Timer(tag)\n",
    "    solver = PETScKrylovSolver(\"cg\", \"amg\")\n",
    "    solver.set_operator(A)\n",
    "    num_it = solver.solve(p.vector(), b)\n",
    "    timer.stop()\n",
    "\n",
    "    print \"%s: num_it = \" % tag, num_it\n",
    "    return (p, tag)"
   ]
  },
  {
   "cell_type": "markdown",
   "metadata": {},
   "source": [
    "Let's do the same as we did for the LU, run some timings, and plot the results versus mesh size and problem size.Let's also try with N=64 since that should be completely feasible with an iterative solver.  "
   ]
  },
  {
   "cell_type": "code",
   "execution_count": 9,
   "metadata": {
    "collapsed": false
   },
   "outputs": [
    {
     "name": "stdout",
     "output_type": "stream",
     "text": [
      "Primal AMG: num_it =  3\n",
      "<function primal_amg at 0x7fa7c70c95f0> (s) with N=729 and h=0.22: 0.011\n",
      "Primal AMG: num_it =  3\n",
      "<function primal_amg at 0x7fa7c70c95f0> (s) with N=729 and h=0.22: 0.0107\n",
      "Primal AMG: num_it =  3\n",
      "<function primal_amg at 0x7fa7c70c95f0> (s) with N=729 and h=0.22: 0.0101\n",
      "Primal AMG took 0.0106 (+- 0.000368)\n",
      "Primal AMG: num_it =  3\n",
      "<function primal_amg at 0x7fa7c70c95f0> (s) with N=4913 and h=0.11: 0.107\n",
      "Primal AMG: num_it =  3\n",
      "<function primal_amg at 0x7fa7c70c95f0> (s) with N=4913 and h=0.11: 0.112\n",
      "Primal AMG: num_it =  3\n",
      "<function primal_amg at 0x7fa7c70c95f0> (s) with N=4913 and h=0.11: 0.113\n",
      "Primal AMG took 0.111 (+- 0.00279)\n",
      "Primal AMG: num_it =  3\n",
      "<function primal_amg at 0x7fa7c70c95f0> (s) with N=35937 and h=0.054: 2.16\n",
      "Primal AMG: num_it =  3\n",
      "<function primal_amg at 0x7fa7c70c95f0> (s) with N=35937 and h=0.054: 2.08\n",
      "Primal AMG: num_it =  3\n",
      "<function primal_amg at 0x7fa7c70c95f0> (s) with N=35937 and h=0.054: 2.15\n",
      "Primal AMG took 2.13 (+- 0.0374)\n",
      "Primal AMG: num_it =  4\n",
      "<function primal_amg at 0x7fa7c70c95f0> (s) with N=274625 and h=0.027: 58.5\n",
      "Primal AMG: num_it =  4\n",
      "<function primal_amg at 0x7fa7c70c95f0> (s) with N=274625 and h=0.027: 58.3\n",
      "Primal AMG: num_it =  4\n",
      "<function primal_amg at 0x7fa7c70c95f0> (s) with N=274625 and h=0.027: 55.3\n",
      "Primal AMG took 57.3 (+- 1.47)\n"
     ]
    }
   ],
   "source": [
    "sizes = [8, 16, 32, 64]\n",
    "hs = []\n",
    "primal_amg_times = []\n",
    "stds = []\n",
    "Ns = []\n",
    "\n",
    "R = 3\n",
    "\n",
    "for n in sizes:\n",
    "    mesh = UnitCubeMesh(n, n, n)\n",
    "    Ns += [mesh.num_vertices()] # NB CG1 specific\n",
    "    hs += [mesh.hmax()]\n",
    "   \n",
    "    avg_t, std_t = time_solves(mesh, primal_amg, R=R)\n",
    "    print \"%s took %0.3g (+- %0.3g)\" % (\"Primal AMG\", avg_t, std_t)\n",
    "\n",
    "    primal_amg_times += [avg_t]\n",
    "    stds += [std_t]"
   ]
  },
  {
   "cell_type": "code",
   "execution_count": 10,
   "metadata": {
    "collapsed": false
   },
   "outputs": [
    {
     "data": {
      "image/png": "[encoded data removed]",
      "text/plain": [
       "<matplotlib.figure.Figure at 0x7fa7c704c310>"
      ]
     },
     "metadata": {},
     "output_type": "display_data"
    },
    {
     "data": {
      "image/png": "[encoded data removed]",
      "text/plain": [
       "<matplotlib.figure.Figure at 0x7fa7c574fad0>"
      ]
     },
     "metadata": {},
     "output_type": "display_data"
    }
   ],
   "source": [
    "pylab.figure()\n",
    "pylab.errorbar(hs, primal_amg_times, stds)\n",
    "pylab.grid(True)\n",
    "pylab.xlabel(\"h\")\n",
    "pylab.ylabel(\"Run time (s)\")\n",
    "pylab.show()\n",
    "\n",
    "pylab.figure()\n",
    "pylab.errorbar(Ns, primal_amg_times, stds)\n",
    "pylab.grid(True)\n",
    "pylab.xlabel(\"#dofs\")\n",
    "pylab.ylabel(\"Run time (s)\")\n",
    "\n",
    "pylab.show()"
   ]
  },
  {
   "cell_type": "markdown",
   "metadata": {},
   "source": [
    "A quick look at these results indicates that \n",
    "* AMG beats LU run times around #dofs = 5000 (16 x 16 x 16 mesh) and onwards (increasing problem size);\n",
    "* AMG run times increase with roughly a factor 20 when the mesh increases with a factor 10. \n",
    "* AMG for 32 x 32 x 32 takes about 2 seconds \n",
    "* Number of iterations seems pretty constant with increasing mesh size (3-4)"
   ]
  },
  {
   "cell_type": "markdown",
   "metadata": {},
   "source": [
    "### Dependency on initial state\n",
    "\n",
    "Does the initial state (value of p) make much of a difference for the iterative solver? Let's have a quick look at that."
   ]
  },
  {
   "cell_type": "code",
   "execution_count": 11,
   "metadata": {
    "collapsed": false
   },
   "outputs": [
    {
     "name": "stdout",
     "output_type": "stream",
     "text": [
      "Primal AMG with zero initial state (s) =  2.072976667\n",
      "Primal AMG with random initial state (s) =  2.07263843\n"
     ]
    }
   ],
   "source": [
    "n = 32\n",
    "mesh = UnitCubeMesh(n, n, n)\n",
    "\n",
    "A, b, p = primal(mesh)\n",
    "\n",
    "tag = \"Primal AMG with zero initial state\"\n",
    "timer = Timer(tag)\n",
    "solver = PETScKrylovSolver(\"cg\", \"amg\")\n",
    "solver.set_operator(A)\n",
    "num_it = solver.solve(p.vector(), b)\n",
    "value = timer.stop()\n",
    "print \"%s (s) = \" % tag, value\n",
    "\n",
    "tag = \"Primal AMG with random initial state\"\n",
    "dim = p.vector().size()\n",
    "p.vector()[:] = numpy.random.rand(dim)\n",
    "timer = Timer(tag)\n",
    "solver = PETScKrylovSolver(\"cg\", \"amg\")\n",
    "solver.set_operator(A)\n",
    "solver.parameters[\"nonzero_initial_guess\"] = True\n",
    "num_it = solver.solve(p.vector(), b)\n",
    "value = timer.stop()\n",
    "print \"%s (s) = \" % tag, value"
   ]
  },
  {
   "cell_type": "markdown",
   "metadata": {},
   "source": [
    "Nope, that does not seem to make much of a difference in this case."
   ]
  },
  {
   "cell_type": "markdown",
   "metadata": {},
   "source": [
    "## Implementation and exploration of the mixed formulation"
   ]
  },
  {
   "cell_type": "code",
   "execution_count": 12,
   "metadata": {
    "collapsed": true
   },
   "outputs": [],
   "source": [
    "def darcy(mesh):\n",
    "    \"\"\"Compute and return linear system and solution function \n",
    "    for mixed H(div) x L^2 formulation of Poisson/Darcy.\"\"\"\n",
    "    \n",
    "    V = FiniteElement(\"RT\", mesh.ufl_cell(), 1)\n",
    "    Q = FiniteElement(\"DG\", mesh.ufl_cell(), 0)\n",
    "    W = FunctionSpace(mesh, V*Q)\n",
    "\n",
    "    (u, p) = TrialFunctions(W)\n",
    "    (v, q) = TestFunctions(W)\n",
    "\n",
    "    a = (dot(u, v) + div(u)*q + div(v)*p)*dx\n",
    "    f = Constant(-1.0)\n",
    "    L = f*q*dx\n",
    "\n",
    "    A = assemble(a)\n",
    "    b = assemble(L)\n",
    "    w = Function(W)\n",
    "\n",
    "    return (A, b, w)"
   ]
  },
  {
   "cell_type": "code",
   "execution_count": 13,
   "metadata": {
    "collapsed": true
   },
   "outputs": [],
   "source": [
    "def darcy_lu(mesh):\n",
    "    \"Solve mixed H(div) x L^2 formulation using LU\"\n",
    "    \n",
    "    tag = \"Darcy LU\"\n",
    "    (A, b, w) = darcy(mesh)\n",
    "\n",
    "    timer = Timer(tag)\n",
    "    solver = LUSolver(A)\n",
    "    solver.solve(w.vector(), b)\n",
    "    timer.stop()\n",
    "    \n",
    "    #(u, p) = w.split(deepcopy=True)\n",
    "    #plot(p)\n",
    "    \n",
    "    return (w, tag)"
   ]
  },
  {
   "cell_type": "markdown",
   "metadata": {},
   "source": [
    "With this mixed variational formulation of the problem and the basic LU solver, let's run some similar experiments "
   ]
  },
  {
   "cell_type": "code",
   "execution_count": 14,
   "metadata": {
    "collapsed": false
   },
   "outputs": [
    {
     "name": "stdout",
     "output_type": "stream",
     "text": [
      "<function darcy_lu at 0x7fa7c57085f0> (s) with N=9600 and h=0.22: 0.157\n",
      "<function darcy_lu at 0x7fa7c57085f0> (s) with N=9600 and h=0.22: 0.133\n",
      "<function darcy_lu at 0x7fa7c57085f0> (s) with N=9600 and h=0.22: 0.133\n",
      "Darcy LU took 0.141 (+- 0.011)\n",
      "<function darcy_lu at 0x7fa7c57085f0> (s) with N=75264 and h=0.11: 12.6\n",
      "<function darcy_lu at 0x7fa7c57085f0> (s) with N=75264 and h=0.11: 13.1\n",
      "<function darcy_lu at 0x7fa7c57085f0> (s) with N=75264 and h=0.11: 14\n",
      "Darcy LU took 13.2 (+- 0.585)\n"
     ]
    }
   ],
   "source": [
    "sizes = [8, 16]\n",
    "hs = []\n",
    "times = []\n",
    "stds = []\n",
    "Ns = []\n",
    "\n",
    "R = 3\n",
    "\n",
    "for n in sizes:\n",
    "    mesh = UnitCubeMesh(n, n, n)\n",
    "    mesh.init()\n",
    "    Ns += [mesh.num_edges() + mesh.num_cells()] # NB: RT0 x DG0 specific\n",
    "    hs += [mesh.hmax()]\n",
    "   \n",
    "    avg_t, std_t = time_solves(mesh, darcy_lu, R=R)\n",
    "    print \"%s took %0.3g (+- %0.3g)\" % (\"Darcy LU\", avg_t, std_t)\n",
    "\n",
    "    times += [avg_t]\n",
    "    stds += [std_t]"
   ]
  },
  {
   "cell_type": "markdown",
   "metadata": {},
   "source": [
    "Some observations:\n",
    "* While LU for the primal formulation on the 8 x 8 x 8 mesh took 0.00537 s, LU for mixed on same mesh takes about 0.141 s which is a factor 20 increase. One can note however that N = 729 for the former and N = 9600 for the latter, which is a factor 10 increase in system size. \n",
    "* Running with 32 x 32 x 32 runs out of memory. \n"
   ]
  },
  {
   "cell_type": "markdown",
   "metadata": {},
   "source": [
    "This formulation is symmetric, but not positive definite (or negative definite), so it is not entirely clear how to proceed. One possibility is to try some out of the box iterative solvers anyway. So, let's start with that. \n",
    "\n",
    "Let's just start with \"gmres\" (\"cg\" gives garbage) and \"ilu\":"
   ]
  },
  {
   "cell_type": "code",
   "execution_count": 15,
   "metadata": {
    "collapsed": false
   },
   "outputs": [],
   "source": [
    "def darcy_ilu(mesh):\n",
    "    \"Solve mixed H(div) x L^2 formulation using GMRES and ilu\"\n",
    "    \n",
    "    tag = \"Darcy iLU\"\n",
    "    (A, b, w) = darcy(mesh)\n",
    "\n",
    "    timer = Timer(tag)\n",
    "    solver = PETScKrylovSolver(\"gmres\", \"ilu\")\n",
    "    solver.set_operator(A)\n",
    "    num_iter = solver.solve(w.vector(), b)    \n",
    "    timer.stop()\n",
    "\n",
    "    print \"#iterations (%s) = \" % tag, num_iter\n",
    "    \n",
    "    return (w, tag)"
   ]
  },
  {
   "cell_type": "markdown",
   "metadata": {},
   "source": [
    "One can experiment with this a bit, the results look reasonable, but the number of iterations increase with the system size:"
   ]
  },
  {
   "cell_type": "code",
   "execution_count": 16,
   "metadata": {
    "collapsed": false
   },
   "outputs": [
    {
     "name": "stdout",
     "output_type": "stream",
     "text": [
      "#iterations (Darcy iLU) =  49\n",
      "<function darcy_ilu at 0x7fa7c5026ed8> (s) with N=9600 and h=0.22: 0.016\n",
      "#iterations (Darcy iLU) =  49\n",
      "<function darcy_ilu at 0x7fa7c5026ed8> (s) with N=9600 and h=0.22: 0.0151\n",
      "Darcy GMRES + iLU took 0.0156 (+- 0.000468)\n",
      "\n",
      "#iterations (Darcy iLU) =  190\n",
      "<function darcy_ilu at 0x7fa7c5026ed8> (s) with N=75264 and h=0.11: 0.53\n",
      "#iterations (Darcy iLU) =  190\n",
      "<function darcy_ilu at 0x7fa7c5026ed8> (s) with N=75264 and h=0.11: 0.533\n",
      "Darcy GMRES + iLU took 0.531 (+- 0.00154)\n",
      "\n",
      "#iterations (Darcy iLU) =  575\n",
      "<function darcy_ilu at 0x7fa7c5026ed8> (s) with N=595968 and h=0.054: 14.6\n",
      "#iterations (Darcy iLU) =  575\n",
      "<function darcy_ilu at 0x7fa7c5026ed8> (s) with N=595968 and h=0.054: 15.1\n",
      "Darcy GMRES + iLU took 14.9 (+- 0.241)\n",
      "\n"
     ]
    }
   ],
   "source": [
    "sizes = [8, 16, 32]#, 64]\n",
    "hs = []\n",
    "times = []\n",
    "stds = []\n",
    "Ns = []\n",
    "\n",
    "R = 2\n",
    "\n",
    "for n in sizes:\n",
    "    mesh = UnitCubeMesh(n, n, n)\n",
    "    mesh.init()\n",
    "    Ns += [mesh.num_edges() + mesh.num_cells()] # NB: RT0 x DG0 specific\n",
    "    hs += [mesh.hmax()]\n",
    "   \n",
    "    avg_t, std_t = time_solves(mesh, darcy_ilu, R=R)\n",
    "    print \"%s took %0.3g (+- %0.3g)\" % (\"Darcy GMRES + iLU\", avg_t, std_t)\n",
    "    print\n",
    "\n",
    "    times += [avg_t]\n",
    "    stds += [std_t]"
   ]
  },
  {
   "cell_type": "markdown",
   "metadata": {},
   "source": [
    "Some observations regarding GMRES + iLU:\n",
    "* Feasible solution range (in terms of number of degrees of freedom) greatly increased compared to LU, 64^3 is possible (but takes around 400 s with 1577 iterations).\n",
    "* Cost per mesh size compared to primal formulation is about 6x for N=32 and increasing (about 8x for N=32) \n",
    "* Number of iterations increase significantly with mesh size.\n",
    "* More testing required to examine correctness of solution for more complicated test cases.\n",
    "* No tolerances set here, nor residual monitored, should do that. "
   ]
  },
  {
   "cell_type": "markdown",
   "metadata": {},
   "source": [
    "Ok, let's try if adding a preconditioner matrix helps with the AMG:"
   ]
  },
  {
   "cell_type": "code",
   "execution_count": 17,
   "metadata": {
    "collapsed": true
   },
   "outputs": [],
   "source": [
    "def darcy_prec1(W):\n",
    "    (u, p) = TrialFunctions(W)\n",
    "    (v, q) = TestFunctions(W)\n",
    "    prec = (inner(u, v) + div(u)*div(v) + p*q)*dx\n",
    "    B = assemble(prec)\n",
    "    return B\n",
    "\n",
    "def darcy_amg(mesh):\n",
    "    \"\"\"Solve mixed H(div) x L^2 formulation using GMRES and AMG, \n",
    "    with an additionally defined preconditioning matrix\"\"\"\n",
    "    \n",
    "    tag = \"Darcy AMG\"\n",
    "    (A, b, w) = darcy(mesh)\n",
    "    \n",
    "    B = darcy_prec1(w.function_space())\n",
    "    \n",
    "    timer = Timer(tag)\n",
    "    solver = PETScKrylovSolver(\"gmres\", \"amg\") # or hypre_amg or petsc_amg\n",
    "    solver.set_operators(A, B)\n",
    "    solver.parameters[\"relative_tolerance\"] = 1.e-10 # To get correct results in eye-norm \n",
    "    num_iter = solver.solve(w.vector(), b)    \n",
    "    timer.stop()\n",
    "\n",
    "    print \"#iterations (%s) = \" % tag, num_iter\n",
    "    \n",
    "    return (w, tag)"
   ]
  },
  {
   "cell_type": "code",
   "execution_count": 20,
   "metadata": {
    "collapsed": false
   },
   "outputs": [
    {
     "name": "stdout",
     "output_type": "stream",
     "text": [
      "#iterations (Darcy AMG) =  255\n",
      "<function darcy_amg at 0x7fa7c5029668> (s) with N=9600 and h=0.22: 0.713\n",
      "#iterations (Darcy AMG) =  253\n",
      "<function darcy_amg at 0x7fa7c5029668> (s) with N=9600 and h=0.22: 0.945\n",
      "Darcy GMRES + AMG took 0.829 (+- 0.116)\n",
      "\n",
      "#iterations (Darcy AMG) =  902\n",
      "<function darcy_amg at 0x7fa7c5029668> (s) with N=75264 and h=0.11: 32.9\n",
      "#iterations (Darcy AMG) =  800\n",
      "<function darcy_amg at 0x7fa7c5029668> (s) with N=75264 and h=0.11: 30.5\n",
      "Darcy GMRES + AMG took 31.7 (+- 1.23)\n",
      "\n"
     ]
    }
   ],
   "source": [
    "sizes = [8, 16]\n",
    "hs = []\n",
    "times = []\n",
    "stds = []\n",
    "Ns = []\n",
    "\n",
    "R = 2\n",
    "\n",
    "for n in sizes:\n",
    "    mesh = UnitCubeMesh(n, n, n)\n",
    "    mesh.init()\n",
    "    Ns += [mesh.num_edges() + mesh.num_cells()] # NB: RT0 x DG0 specific\n",
    "    hs += [mesh.hmax()]\n",
    "   \n",
    "    avg_t, std_t = time_solves(mesh, darcy_amg, R=R)\n",
    "    print \"%s took %0.3g (+- %0.3g)\" % (\"Darcy GMRES + AMG\", avg_t, std_t)\n",
    "    print\n",
    "\n",
    "    times += [avg_t]\n",
    "    stds += [std_t]"
   ]
  },
  {
   "cell_type": "markdown",
   "metadata": {},
   "source": [
    "Observations\n",
    "* The number of iterations is non-deterministic? What kind of deal is that??\n",
    "* Large number of iterations and increasing with mesh size.\n",
    "* Currently much slower than GMRES + iLU. \n",
    "* More understanding and tuning clearly needed."
   ]
  }
 ],
 "metadata": {
  "kernelspec": {
   "display_name": "Python 2",
   "language": "python",
   "name": "python2"
  },
  "language_info": {
   "codemirror_mode": {
    "name": "ipython",
    "version": 2
   },
   "file_extension": ".py",
   "mimetype": "text/x-python",
   "name": "python",
   "nbconvert_exporter": "python",
   "pygments_lexer": "ipython2",
   "version": "2.7.12"
  }
 },
 "nbformat": 4,
 "nbformat_minor": 0
}
